{
 "cells": [
  {
   "cell_type": "code",
   "execution_count": 6,
   "id": "691c3ee7",
   "metadata": {},
   "outputs": [],
   "source": [
    "# Question 1 In the below elements which of them are values or an expression? \n",
    "# eg:- values can be integer or string and expressions will be mathematical operators."
   ]
  },
  {
   "cell_type": "code",
   "execution_count": 7,
   "id": "a9b1795a",
   "metadata": {},
   "outputs": [],
   "source": [
    "# ANSWER 1\n",
    "# type(*) = expression \n",
    "# type('hello') = value\n",
    "# type(-87.8) = value\n",
    "# type(-) = expression\n",
    "# type(/) = expression\n",
    "# type(+) = expression\n",
    "# type(6) = value"
   ]
  },
  {
   "cell_type": "code",
   "execution_count": null,
   "id": "5e2be5e5",
   "metadata": {},
   "outputs": [],
   "source": []
  },
  {
   "cell_type": "code",
   "execution_count": 8,
   "id": "9dd70be5",
   "metadata": {},
   "outputs": [],
   "source": [
    "# Question 2. What is the difference between string and variable?"
   ]
  },
  {
   "cell_type": "code",
   "execution_count": 9,
   "id": "472191ae",
   "metadata": {},
   "outputs": [],
   "source": [
    "# ANSWER 2\n",
    "# a string is a value of text while variable is an assignment to any value."
   ]
  },
  {
   "cell_type": "code",
   "execution_count": null,
   "id": "599f725e",
   "metadata": {},
   "outputs": [],
   "source": []
  },
  {
   "cell_type": "code",
   "execution_count": 10,
   "id": "a315aa63",
   "metadata": {},
   "outputs": [],
   "source": [
    "# Question 3. Describe three different data types."
   ]
  },
  {
   "cell_type": "code",
   "execution_count": 11,
   "id": "0b64c064",
   "metadata": {},
   "outputs": [],
   "source": [
    "# ANSWER 3\n",
    "# Boolean refers to true or false data\n",
    "# Integer refers to whole numbers\n",
    "# Float refers to numbers with decimals"
   ]
  },
  {
   "cell_type": "code",
   "execution_count": null,
   "id": "3d3acf5c",
   "metadata": {},
   "outputs": [],
   "source": []
  },
  {
   "cell_type": "code",
   "execution_count": 5,
   "id": "a0e0d11e",
   "metadata": {},
   "outputs": [],
   "source": [
    "# Question 4. What is an expression made up of? What do all expressions do?"
   ]
  },
  {
   "cell_type": "code",
   "execution_count": null,
   "id": "3fb7e380",
   "metadata": {},
   "outputs": [],
   "source": [
    "# ANSWER 4\n",
    "# Expression is a statement made up of values, operators\n",
    "# Expression will interpret the combination of value and operators and return a final value "
   ]
  },
  {
   "cell_type": "code",
   "execution_count": null,
   "id": "fbf8ee21",
   "metadata": {},
   "outputs": [],
   "source": []
  },
  {
   "cell_type": "code",
   "execution_count": 12,
   "id": "cee78e97",
   "metadata": {},
   "outputs": [],
   "source": [
    "# Question 5. This assignment statements, like spam = 10. \n",
    "# What is the difference between an expression and a statement?"
   ]
  },
  {
   "cell_type": "code",
   "execution_count": 13,
   "id": "ee4ab1f7",
   "metadata": {},
   "outputs": [],
   "source": [
    "# ANSWER 5\n",
    "#  A statement is a programming instruction that does something, like print()\n",
    "# in this case, spam=10 is an expression, it does not do anything."
   ]
  },
  {
   "cell_type": "code",
   "execution_count": null,
   "id": "1d694bec",
   "metadata": {},
   "outputs": [],
   "source": []
  },
  {
   "cell_type": "code",
   "execution_count": 14,
   "id": "c1468316",
   "metadata": {},
   "outputs": [],
   "source": [
    "# Question 6. After running the following code, what does the variable bacon contain?\n",
    "# bacon = 22\n",
    "# bacon + 1"
   ]
  },
  {
   "cell_type": "code",
   "execution_count": 15,
   "id": "4c885a01",
   "metadata": {},
   "outputs": [
    {
     "data": {
      "text/plain": [
       "23"
      ]
     },
     "execution_count": 15,
     "metadata": {},
     "output_type": "execute_result"
    }
   ],
   "source": [
    "bacon = 22\n",
    "bacon + 1"
   ]
  },
  {
   "cell_type": "code",
   "execution_count": 16,
   "id": "e0214058",
   "metadata": {},
   "outputs": [
    {
     "data": {
      "text/plain": [
       "22"
      ]
     },
     "execution_count": 16,
     "metadata": {},
     "output_type": "execute_result"
    }
   ],
   "source": [
    "bacon"
   ]
  },
  {
   "cell_type": "code",
   "execution_count": null,
   "id": "fbcfc121",
   "metadata": {},
   "outputs": [],
   "source": [
    "# ANSWER 6\n",
    "# variable bacon remains the assignment value 22."
   ]
  },
  {
   "cell_type": "code",
   "execution_count": null,
   "id": "a04e44c4",
   "metadata": {},
   "outputs": [],
   "source": []
  },
  {
   "cell_type": "code",
   "execution_count": null,
   "id": "cbfd41e7",
   "metadata": {},
   "outputs": [],
   "source": [
    "# Question 7. What should the values of the following two terms be?\n",
    "# 'spam' + 'spamspam'\n",
    "# 'spam' * 3\n"
   ]
  },
  {
   "cell_type": "code",
   "execution_count": 17,
   "id": "ea35bca0",
   "metadata": {},
   "outputs": [
    {
     "data": {
      "text/plain": [
       "'spamspamspam'"
      ]
     },
     "execution_count": 17,
     "metadata": {},
     "output_type": "execute_result"
    }
   ],
   "source": [
    "'spam' + 'spamspam'"
   ]
  },
  {
   "cell_type": "code",
   "execution_count": 18,
   "id": "a763d89a",
   "metadata": {},
   "outputs": [
    {
     "data": {
      "text/plain": [
       "'spamspamspam'"
      ]
     },
     "execution_count": 18,
     "metadata": {},
     "output_type": "execute_result"
    }
   ],
   "source": [
    "'spam' * 3"
   ]
  },
  {
   "cell_type": "code",
   "execution_count": 19,
   "id": "13e3aa6c",
   "metadata": {},
   "outputs": [],
   "source": [
    "# ANSWER 7\n",
    "# Both will return 'spamspamspam'"
   ]
  },
  {
   "cell_type": "code",
   "execution_count": null,
   "id": "3d3b2101",
   "metadata": {},
   "outputs": [],
   "source": []
  },
  {
   "cell_type": "code",
   "execution_count": 20,
   "id": "0581c32c",
   "metadata": {},
   "outputs": [],
   "source": [
    "# QUESTION 8. Why is eggs a valid variable name while 100 is invalid?"
   ]
  },
  {
   "cell_type": "code",
   "execution_count": 21,
   "id": "9834adcc",
   "metadata": {},
   "outputs": [],
   "source": [
    "# ANSWER 8\n",
    "# variable can start with letter or underscore but not a number \n",
    "# it will confuse the natural mathematicatical logic within python with a number is allowed to assigned to a value.\n",
    "# example if 100 = apples, the next time we write an expression 100+1, it will not be able to return 101"
   ]
  },
  {
   "cell_type": "code",
   "execution_count": null,
   "id": "29c9eb4b",
   "metadata": {},
   "outputs": [],
   "source": []
  },
  {
   "cell_type": "code",
   "execution_count": 22,
   "id": "70fd0d71",
   "metadata": {},
   "outputs": [],
   "source": [
    "# QUESTION 9. What three functions can be used to get the integer, floating-point number, or string version of a value?"
   ]
  },
  {
   "cell_type": "code",
   "execution_count": null,
   "id": "83859867",
   "metadata": {},
   "outputs": [],
   "source": [
    "# ANSWER 9\n",
    "# int() for integer\n",
    "# float() for float\n",
    "# str() for string"
   ]
  },
  {
   "cell_type": "code",
   "execution_count": null,
   "id": "3f2ee55d",
   "metadata": {},
   "outputs": [],
   "source": []
  },
  {
   "cell_type": "code",
   "execution_count": null,
   "id": "80296c0e",
   "metadata": {},
   "outputs": [],
   "source": [
    "#QUESTION 10. Why does this expression cause an error? How can you fix it?\n",
    "# 'I have eaten ' + 99 + ' burritos.'"
   ]
  },
  {
   "cell_type": "code",
   "execution_count": 26,
   "id": "68141dd6",
   "metadata": {},
   "outputs": [
    {
     "ename": "TypeError",
     "evalue": "can only concatenate str (not \"int\") to str",
     "output_type": "error",
     "traceback": [
      "\u001b[1;31m---------------------------------------------------------------------------\u001b[0m",
      "\u001b[1;31mTypeError\u001b[0m                                 Traceback (most recent call last)",
      "Input \u001b[1;32mIn [26]\u001b[0m, in \u001b[0;36m<cell line: 1>\u001b[1;34m()\u001b[0m\n\u001b[1;32m----> 1\u001b[0m \u001b[38;5;124;43m'\u001b[39;49m\u001b[38;5;124;43mI have eaten \u001b[39;49m\u001b[38;5;124;43m'\u001b[39;49m\u001b[43m \u001b[49m\u001b[38;5;241;43m+\u001b[39;49m\u001b[43m \u001b[49m\u001b[38;5;241;43m99\u001b[39;49m \u001b[38;5;241m+\u001b[39m \u001b[38;5;124m'\u001b[39m\u001b[38;5;124m burritos.\u001b[39m\u001b[38;5;124m'\u001b[39m\n",
      "\u001b[1;31mTypeError\u001b[0m: can only concatenate str (not \"int\") to str"
     ]
    }
   ],
   "source": [
    "'I have eaten ' + 99 + ' burritos.'"
   ]
  },
  {
   "cell_type": "code",
   "execution_count": 29,
   "id": "879f62b5",
   "metadata": {},
   "outputs": [
    {
     "data": {
      "text/plain": [
       "'I have eaten 99 burritos.'"
      ]
     },
     "execution_count": 29,
     "metadata": {},
     "output_type": "execute_result"
    }
   ],
   "source": [
    "# ANSWER 10\n",
    "'I have eaten ' + str(99) + ' burritos.'"
   ]
  },
  {
   "cell_type": "code",
   "execution_count": null,
   "id": "3bbef577",
   "metadata": {},
   "outputs": [],
   "source": []
  }
 ],
 "metadata": {
  "kernelspec": {
   "display_name": "Python 3 (ipykernel)",
   "language": "python",
   "name": "python3"
  },
  "language_info": {
   "codemirror_mode": {
    "name": "ipython",
    "version": 3
   },
   "file_extension": ".py",
   "mimetype": "text/x-python",
   "name": "python",
   "nbconvert_exporter": "python",
   "pygments_lexer": "ipython3",
   "version": "3.8.13"
  },
  "varInspector": {
   "cols": {
    "lenName": 16,
    "lenType": 16,
    "lenVar": 40
   },
   "kernels_config": {
    "python": {
     "delete_cmd_postfix": "",
     "delete_cmd_prefix": "del ",
     "library": "var_list.py",
     "varRefreshCmd": "print(var_dic_list())"
    },
    "r": {
     "delete_cmd_postfix": ") ",
     "delete_cmd_prefix": "rm(",
     "library": "var_list.r",
     "varRefreshCmd": "cat(var_dic_list()) "
    }
   },
   "types_to_exclude": [
    "module",
    "function",
    "builtin_function_or_method",
    "instance",
    "_Feature"
   ],
   "window_display": false
  }
 },
 "nbformat": 4,
 "nbformat_minor": 5
}

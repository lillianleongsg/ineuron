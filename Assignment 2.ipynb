{
 "cells": [
  {
   "cell_type": "code",
   "execution_count": 1,
   "id": "2000f4e2",
   "metadata": {},
   "outputs": [],
   "source": [
    "# QUESTION 1.What are the two values of the Boolean data type? How do you write them?"
   ]
  },
  {
   "cell_type": "code",
   "execution_count": 2,
   "id": "75b10b65",
   "metadata": {},
   "outputs": [
    {
     "data": {
      "text/plain": [
       "True"
      ]
     },
     "execution_count": 2,
     "metadata": {},
     "output_type": "execute_result"
    }
   ],
   "source": [
    "True"
   ]
  },
  {
   "cell_type": "code",
   "execution_count": 3,
   "id": "695c4e65",
   "metadata": {},
   "outputs": [
    {
     "data": {
      "text/plain": [
       "False"
      ]
     },
     "execution_count": 3,
     "metadata": {},
     "output_type": "execute_result"
    }
   ],
   "source": [
    "False"
   ]
  },
  {
   "cell_type": "code",
   "execution_count": null,
   "id": "a725d30f",
   "metadata": {},
   "outputs": [],
   "source": [
    "    "
   ]
  },
  {
   "cell_type": "code",
   "execution_count": 4,
   "id": "fdd1718f",
   "metadata": {},
   "outputs": [],
   "source": [
    "# QUESTION 2. What are the three different types of Boolean operators?"
   ]
  },
  {
   "cell_type": "code",
   "execution_count": 6,
   "id": "057f6b14",
   "metadata": {},
   "outputs": [],
   "source": [
    "# and, not, or"
   ]
  },
  {
   "cell_type": "code",
   "execution_count": null,
   "id": "c5127fa3",
   "metadata": {},
   "outputs": [],
   "source": []
  },
  {
   "cell_type": "code",
   "execution_count": 7,
   "id": "d9101bd6",
   "metadata": {},
   "outputs": [],
   "source": [
    "# 3. Make a list of each Boolean operator's truth tables \n",
    "# (i.e. every possible combination of Boolean values for the operator and what it evaluate )."
   ]
  },
  {
   "cell_type": "code",
   "execution_count": 9,
   "id": "462c599d",
   "metadata": {},
   "outputs": [
    {
     "name": "stdout",
     "output_type": "stream",
     "text": [
      "x == y: False\n",
      "x != y: True\n",
      "x < y: True\n",
      "x > y: False\n",
      "x <= y: True\n",
      "x >= y: False\n"
     ]
    }
   ],
   "source": [
    "x = 3\n",
    "y = 6\n",
    "\n",
    "print(\"x == y:\", x == y)\n",
    "print(\"x != y:\", x != y)\n",
    "print(\"x < y:\", x < y)\n",
    "print(\"x > y:\", x > y)\n",
    "print(\"x <= y:\", x <= y)\n",
    "print(\"x >= y:\", x >= y)"
   ]
  },
  {
   "cell_type": "code",
   "execution_count": null,
   "id": "2df60d5f",
   "metadata": {},
   "outputs": [],
   "source": []
  },
  {
   "cell_type": "code",
   "execution_count": 10,
   "id": "c63d3890",
   "metadata": {},
   "outputs": [],
   "source": [
    "# Question 4. What are the values of the following expressions?"
   ]
  },
  {
   "cell_type": "code",
   "execution_count": 11,
   "id": "7c1044ac",
   "metadata": {},
   "outputs": [
    {
     "data": {
      "text/plain": [
       "False"
      ]
     },
     "execution_count": 11,
     "metadata": {},
     "output_type": "execute_result"
    }
   ],
   "source": [
    "(5 > 4) and (3 == 5)"
   ]
  },
  {
   "cell_type": "code",
   "execution_count": 12,
   "id": "0eedd4cd",
   "metadata": {},
   "outputs": [
    {
     "data": {
      "text/plain": [
       "False"
      ]
     },
     "execution_count": 12,
     "metadata": {},
     "output_type": "execute_result"
    }
   ],
   "source": [
    "not (5 > 4)"
   ]
  },
  {
   "cell_type": "code",
   "execution_count": 13,
   "id": "4a03470b",
   "metadata": {},
   "outputs": [
    {
     "data": {
      "text/plain": [
       "True"
      ]
     },
     "execution_count": 13,
     "metadata": {},
     "output_type": "execute_result"
    }
   ],
   "source": [
    "(5 > 4) or (3 == 5)"
   ]
  },
  {
   "cell_type": "code",
   "execution_count": 14,
   "id": "db9e46bb",
   "metadata": {},
   "outputs": [
    {
     "data": {
      "text/plain": [
       "False"
      ]
     },
     "execution_count": 14,
     "metadata": {},
     "output_type": "execute_result"
    }
   ],
   "source": [
    "not ((5 > 4) or (3 == 5))"
   ]
  },
  {
   "cell_type": "code",
   "execution_count": 15,
   "id": "1699286c",
   "metadata": {},
   "outputs": [
    {
     "data": {
      "text/plain": [
       "False"
      ]
     },
     "execution_count": 15,
     "metadata": {},
     "output_type": "execute_result"
    }
   ],
   "source": [
    "(True and True) and (True == False)"
   ]
  },
  {
   "cell_type": "code",
   "execution_count": 16,
   "id": "ca0f363c",
   "metadata": {},
   "outputs": [
    {
     "data": {
      "text/plain": [
       "True"
      ]
     },
     "execution_count": 16,
     "metadata": {},
     "output_type": "execute_result"
    }
   ],
   "source": [
    "(not False) or (not True)"
   ]
  },
  {
   "cell_type": "code",
   "execution_count": null,
   "id": "b49a88e7",
   "metadata": {},
   "outputs": [],
   "source": []
  },
  {
   "cell_type": "code",
   "execution_count": 17,
   "id": "bec097b7",
   "metadata": {},
   "outputs": [],
   "source": [
    "# Question 5. What are the six comparison operators?"
   ]
  },
  {
   "cell_type": "code",
   "execution_count": 18,
   "id": "deb72fce",
   "metadata": {},
   "outputs": [],
   "source": [
    "# ==, !=, <, >, <=, >="
   ]
  },
  {
   "cell_type": "code",
   "execution_count": null,
   "id": "132e03a7",
   "metadata": {},
   "outputs": [],
   "source": []
  },
  {
   "cell_type": "code",
   "execution_count": 19,
   "id": "792178fd",
   "metadata": {},
   "outputs": [],
   "source": [
    "# Question 6. How do you tell the difference between the equal to and assignment operators?\n",
    "# Describe a condition and when you would use one."
   ]
  },
  {
   "cell_type": "code",
   "execution_count": 20,
   "id": "5852dc7b",
   "metadata": {},
   "outputs": [],
   "source": [
    "# == is equal operator\n",
    "# = is assignment operator"
   ]
  },
  {
   "cell_type": "code",
   "execution_count": null,
   "id": "a77372ca",
   "metadata": {},
   "outputs": [],
   "source": []
  },
  {
   "cell_type": "code",
   "execution_count": 21,
   "id": "57db652e",
   "metadata": {},
   "outputs": [],
   "source": [
    "# Question 7. Identify the three blocks in this code:"
   ]
  },
  {
   "cell_type": "code",
   "execution_count": 51,
   "id": "3ff3e26d",
   "metadata": {},
   "outputs": [
    {
     "name": "stdout",
     "output_type": "stream",
     "text": [
      "eggs\n",
      "bacon\n",
      "spam\n",
      "spam\n"
     ]
    }
   ],
   "source": [
    "spam = 10\n",
    "\n",
    "if spam == 10:\n",
    "    print('eggs')\n",
    "    \n",
    "    if spam > 5:\n",
    "        print('bacon')\n",
    "    \n",
    "    else:\n",
    "        print('ham')\n",
    "        \n",
    "    print('spam')\n",
    "    \n",
    "print('spam')"
   ]
  },
  {
   "cell_type": "code",
   "execution_count": 48,
   "id": "b580ece2",
   "metadata": {},
   "outputs": [
    {
     "name": "stdout",
     "output_type": "stream",
     "text": [
      "Greeting\n"
     ]
    }
   ],
   "source": [
    "# Question 8. Write code that prints Hello if 1 is stored in spam,\n",
    "# prints Howdy if 2 is stored in spam, and prints Greetings! if anything else is stored in spam.\n",
    "\n",
    "spam = 3\n",
    "\n",
    "if spam == 1:\n",
    "    print('Hello')\n",
    "    \n",
    "elif spam == 2:\n",
    "    print('Howdy');\n",
    "        \n",
    "else:\n",
    "    print('Greeting')"
   ]
  },
  {
   "cell_type": "code",
   "execution_count": null,
   "id": "60b3e11b",
   "metadata": {},
   "outputs": [],
   "source": []
  },
  {
   "cell_type": "code",
   "execution_count": 52,
   "id": "a1ad74d6",
   "metadata": {},
   "outputs": [],
   "source": [
    "# Question 9.If your programme is stuck in an endless loop, what keys you’ll press?"
   ]
  },
  {
   "cell_type": "code",
   "execution_count": null,
   "id": "d2400bcd",
   "metadata": {},
   "outputs": [],
   "source": [
    "# ANSWER 9 CTRL+C"
   ]
  },
  {
   "cell_type": "code",
   "execution_count": null,
   "id": "7f16f9aa",
   "metadata": {},
   "outputs": [],
   "source": []
  },
  {
   "cell_type": "code",
   "execution_count": null,
   "id": "112c760b",
   "metadata": {},
   "outputs": [],
   "source": [
    "# Question 10. How can you tell the difference between break and continue?"
   ]
  },
  {
   "cell_type": "code",
   "execution_count": 53,
   "id": "234f453e",
   "metadata": {},
   "outputs": [],
   "source": [
    "# Answer 10\n",
    "# break is used for immediate termination of loop. \n",
    "# continue will terminate the current iteration but resumes the next iteration of the loop."
   ]
  },
  {
   "cell_type": "code",
   "execution_count": null,
   "id": "e62500fe",
   "metadata": {},
   "outputs": [],
   "source": []
  },
  {
   "cell_type": "code",
   "execution_count": 62,
   "id": "5eb1e1a1",
   "metadata": {},
   "outputs": [],
   "source": [
    "# Question 11. In a for loop, what is the difference between range(10), range(0, 10), and range(0, 10, 1)?"
   ]
  },
  {
   "cell_type": "code",
   "execution_count": 59,
   "id": "3c950d1e",
   "metadata": {},
   "outputs": [
    {
     "data": {
      "text/plain": [
       "range(0, 10)"
      ]
     },
     "execution_count": 59,
     "metadata": {},
     "output_type": "execute_result"
    }
   ],
   "source": [
    "# range(stop) takes one argument.\n",
    "# Series of numbers that starts at 0 and includes every whole number up to, but not including 10\n",
    "range(10)"
   ]
  },
  {
   "cell_type": "code",
   "execution_count": 60,
   "id": "8d1f6a4e",
   "metadata": {},
   "outputs": [
    {
     "data": {
      "text/plain": [
       "range(0, 10)"
      ]
     },
     "execution_count": 60,
     "metadata": {},
     "output_type": "execute_result"
    }
   ],
   "source": [
    "# range(start, stop) takes 2 arguments.\n",
    "# generate a series of numbers from 0 to 10 but not including 10\n",
    "range(0, 10)"
   ]
  },
  {
   "cell_type": "code",
   "execution_count": 61,
   "id": "e9bcef65",
   "metadata": {},
   "outputs": [
    {
     "data": {
      "text/plain": [
       "range(0, 10)"
      ]
     },
     "execution_count": 61,
     "metadata": {},
     "output_type": "execute_result"
    }
   ],
   "source": [
    "# range(start, stop, step) takes 3 arguments.\n",
    "# generate a series of numbers from 0 to 10 but not including 10, difference of 1 \n",
    "range(0, 10, 1)"
   ]
  },
  {
   "cell_type": "code",
   "execution_count": null,
   "id": "8a7cdb35",
   "metadata": {},
   "outputs": [],
   "source": []
  },
  {
   "cell_type": "code",
   "execution_count": null,
   "id": "06e41a77",
   "metadata": {},
   "outputs": [],
   "source": [
    "# Question 12. Write a short program that prints the numbers 1 to 10 using a for loop. \n",
    "# Then write an equivalent program that prints the numbers 1 to 10 using a while loop."
   ]
  },
  {
   "cell_type": "code",
   "execution_count": 63,
   "id": "2f818729",
   "metadata": {},
   "outputs": [
    {
     "name": "stdout",
     "output_type": "stream",
     "text": [
      "0 1 2 3 4 5 6 7 8 9 \n"
     ]
    }
   ],
   "source": [
    "for i in range(10):\n",
    "    print(i, end=\" \")\n",
    "print()"
   ]
  },
  {
   "cell_type": "code",
   "execution_count": 64,
   "id": "7191ee24",
   "metadata": {},
   "outputs": [
    {
     "name": "stdout",
     "output_type": "stream",
     "text": [
      "1\n",
      "2\n",
      "3\n",
      "4\n",
      "5\n",
      "6\n",
      "7\n",
      "8\n",
      "9\n",
      "10\n"
     ]
    }
   ],
   "source": [
    "i = 1\n",
    "while(i<=10):\n",
    "    print(i)\n",
    "    i += 1"
   ]
  },
  {
   "cell_type": "code",
   "execution_count": null,
   "id": "875cebed",
   "metadata": {},
   "outputs": [],
   "source": []
  },
  {
   "cell_type": "code",
   "execution_count": null,
   "id": "5785bc71",
   "metadata": {},
   "outputs": [],
   "source": [
    "# Question 13. If you had a function named bacon() inside a module named spam, \n",
    "# how would you call it after importing spam?"
   ]
  },
  {
   "cell_type": "code",
   "execution_count": 65,
   "id": "8db13841",
   "metadata": {},
   "outputs": [],
   "source": [
    "# This function can be called with spam. bacon()"
   ]
  },
  {
   "cell_type": "code",
   "execution_count": null,
   "id": "6dc766e3",
   "metadata": {},
   "outputs": [],
   "source": []
  }
 ],
 "metadata": {
  "kernelspec": {
   "display_name": "Python 3 (ipykernel)",
   "language": "python",
   "name": "python3"
  },
  "language_info": {
   "codemirror_mode": {
    "name": "ipython",
    "version": 3
   },
   "file_extension": ".py",
   "mimetype": "text/x-python",
   "name": "python",
   "nbconvert_exporter": "python",
   "pygments_lexer": "ipython3",
   "version": "3.8.13"
  },
  "varInspector": {
   "cols": {
    "lenName": 16,
    "lenType": 16,
    "lenVar": 40
   },
   "kernels_config": {
    "python": {
     "delete_cmd_postfix": "",
     "delete_cmd_prefix": "del ",
     "library": "var_list.py",
     "varRefreshCmd": "print(var_dic_list())"
    },
    "r": {
     "delete_cmd_postfix": ") ",
     "delete_cmd_prefix": "rm(",
     "library": "var_list.r",
     "varRefreshCmd": "cat(var_dic_list()) "
    }
   },
   "types_to_exclude": [
    "module",
    "function",
    "builtin_function_or_method",
    "instance",
    "_Feature"
   ],
   "window_display": false
  }
 },
 "nbformat": 4,
 "nbformat_minor": 5
}
